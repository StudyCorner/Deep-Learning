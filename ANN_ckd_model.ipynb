{
  "cells": [
    {
      "cell_type": "code",
      "execution_count": null,
      "metadata": {
        "id": "K-rMtzWPN6XE"
      },
      "outputs": [],
      "source": [
        "# Description: Program to classify patients having chronic kidney disease or not using Artificial Neural Network and LR"
      ]
    },
    {
      "cell_type": "code",
      "execution_count": null,
      "metadata": {
        "scrolled": false,
        "id": "Mzjyx1-ON6XL"
      },
      "outputs": [],
      "source": [
        "import glob\n",
        "import tensorflow as tf\n",
        "from tensorflow import keras\n",
        "from tensorflow.keras import layers\n",
        "from tensorflow.keras import optimizers\n",
        "from tensorflow.keras.models import Sequential\n",
        "from tensorflow.keras.layers import Dense\n",
        "import numpy as np\n",
        "import pandas as pd\n",
        "from sklearn.model_selection import train_test_split\n",
        "from sklearn.preprocessing import LabelEncoder, MinMaxScaler\n",
        "import matplotlib.pyplot as plt\n",
        "import keras as k\n",
        "import seaborn as sns\n",
        "from sklearn.linear_model import LogisticRegression\n",
        "from sklearn.metrics import accuracy_score, confusion_matrix, classification_report"
      ]
    },
    {
      "cell_type": "code",
      "execution_count": null,
      "metadata": {
        "id": "ROP36EBiN6XO"
      },
      "outputs": [],
      "source": [
        "data= pd.read_csv('kidney_disease.csv')"
      ]
    },
    {
      "cell_type": "code",
      "execution_count": null,
      "metadata": {
        "colab": {
          "base_uri": "https://localhost:8080/"
        },
        "id": "s7eGFGgmN6XP",
        "outputId": "7d26d0e3-4a66-4aa4-d775-b150b2ee175b"
      },
      "outputs": [
        {
          "output_type": "execute_result",
          "data": {
            "text/plain": [
              "Index(['id', 'age', 'bp', 'sg', 'al', 'su', 'rbc', 'pc', 'pcc', 'ba', 'bgr',\n",
              "       'bu', 'sc', 'sod', 'pot', 'hemo', 'pcv', 'wc', 'rc', 'htn', 'dm', 'cad',\n",
              "       'appet', 'pe', 'ane', 'classification'],\n",
              "      dtype='object')"
            ]
          },
          "metadata": {},
          "execution_count": 4
        }
      ],
      "source": [
        "data.columns"
      ]
    },
    {
      "cell_type": "code",
      "execution_count": null,
      "metadata": {
        "colab": {
          "base_uri": "https://localhost:8080/"
        },
        "id": "p1sADra6N6XR",
        "outputId": "d7fa55b6-5a8d-4c87-a728-df6eb6804b71"
      },
      "outputs": [
        {
          "output_type": "stream",
          "name": "stdout",
          "text": [
            "      id   age    bp     sg   al   su     rbc        pc         pcc  \\\n",
            "0      0  48.0  80.0  1.020  1.0  0.0     NaN    normal  notpresent   \n",
            "1      1   7.0  50.0  1.020  4.0  0.0     NaN    normal  notpresent   \n",
            "2      2  62.0  80.0  1.010  2.0  3.0  normal    normal  notpresent   \n",
            "3      3  48.0  70.0  1.005  4.0  0.0  normal  abnormal     present   \n",
            "4      4  51.0  80.0  1.010  2.0  0.0  normal    normal  notpresent   \n",
            "..   ...   ...   ...    ...  ...  ...     ...       ...         ...   \n",
            "395  395  55.0  80.0  1.020  0.0  0.0  normal    normal  notpresent   \n",
            "396  396  42.0  70.0  1.025  0.0  0.0  normal    normal  notpresent   \n",
            "397  397  12.0  80.0  1.020  0.0  0.0  normal    normal  notpresent   \n",
            "398  398  17.0  60.0  1.025  0.0  0.0  normal    normal  notpresent   \n",
            "399  399  58.0  80.0  1.025  0.0  0.0  normal    normal  notpresent   \n",
            "\n",
            "             ba  ...  pcv    wc   rc  htn   dm  cad appet   pe  ane  \\\n",
            "0    notpresent  ...   44  7800  5.2  yes  yes   no  good   no   no   \n",
            "1    notpresent  ...   38  6000  NaN   no   no   no  good   no   no   \n",
            "2    notpresent  ...   31  7500  NaN   no  yes   no  poor   no  yes   \n",
            "3    notpresent  ...   32  6700  3.9  yes   no   no  poor  yes  yes   \n",
            "4    notpresent  ...   35  7300  4.6   no   no   no  good   no   no   \n",
            "..          ...  ...  ...   ...  ...  ...  ...  ...   ...  ...  ...   \n",
            "395  notpresent  ...   47  6700  4.9   no   no   no  good   no   no   \n",
            "396  notpresent  ...   54  7800  6.2   no   no   no  good   no   no   \n",
            "397  notpresent  ...   49  6600  5.4   no   no   no  good   no   no   \n",
            "398  notpresent  ...   51  7200  5.9   no   no   no  good   no   no   \n",
            "399  notpresent  ...   53  6800  6.1   no   no   no  good   no   no   \n",
            "\n",
            "    classification  \n",
            "0              ckd  \n",
            "1              ckd  \n",
            "2              ckd  \n",
            "3              ckd  \n",
            "4              ckd  \n",
            "..             ...  \n",
            "395         notckd  \n",
            "396         notckd  \n",
            "397         notckd  \n",
            "398         notckd  \n",
            "399         notckd  \n",
            "\n",
            "[400 rows x 26 columns]\n"
          ]
        }
      ],
      "source": [
        "print(data)"
      ]
    },
    {
      "cell_type": "code",
      "execution_count": null,
      "metadata": {
        "colab": {
          "base_uri": "https://localhost:8080/"
        },
        "id": "hB3T-Q_WN6XS",
        "outputId": "5f560bec-d208-4b02-a608-634700d0234e"
      },
      "outputs": [
        {
          "output_type": "stream",
          "name": "stdout",
          "text": [
            "(400, 26)\n",
            "2\n"
          ]
        }
      ],
      "source": [
        "print(data.shape)\n",
        "print(data.ndim)"
      ]
    },
    {
      "cell_type": "code",
      "execution_count": null,
      "metadata": {
        "scrolled": true,
        "colab": {
          "base_uri": "https://localhost:8080/"
        },
        "id": "DOf5VZuRN6XT",
        "outputId": "5c478d6d-2628-4880-f450-0d25cd0900e0"
      },
      "outputs": [
        {
          "output_type": "stream",
          "name": "stdout",
          "text": [
            "               id         age          bp          sg          al          su  \\\n",
            "count  400.000000  391.000000  388.000000  353.000000  354.000000  351.000000   \n",
            "mean   199.500000   51.483376   76.469072    1.017408    1.016949    0.450142   \n",
            "std    115.614301   17.169714   13.683637    0.005717    1.352679    1.099191   \n",
            "min      0.000000    2.000000   50.000000    1.005000    0.000000    0.000000   \n",
            "25%     99.750000   42.000000   70.000000    1.010000    0.000000    0.000000   \n",
            "50%    199.500000   55.000000   80.000000    1.020000    0.000000    0.000000   \n",
            "75%    299.250000   64.500000   80.000000    1.020000    2.000000    0.000000   \n",
            "max    399.000000   90.000000  180.000000    1.025000    5.000000    5.000000   \n",
            "\n",
            "              bgr          bu          sc         sod         pot        hemo  \n",
            "count  356.000000  381.000000  383.000000  313.000000  312.000000  348.000000  \n",
            "mean   148.036517   57.425722    3.072454  137.528754    4.627244   12.526437  \n",
            "std     79.281714   50.503006    5.741126   10.408752    3.193904    2.912587  \n",
            "min     22.000000    1.500000    0.400000    4.500000    2.500000    3.100000  \n",
            "25%     99.000000   27.000000    0.900000  135.000000    3.800000   10.300000  \n",
            "50%    121.000000   42.000000    1.300000  138.000000    4.400000   12.650000  \n",
            "75%    163.000000   66.000000    2.800000  142.000000    4.900000   15.000000  \n",
            "max    490.000000  391.000000   76.000000  163.000000   47.000000   17.800000  \n"
          ]
        }
      ],
      "source": [
        "print(data.describe())"
      ]
    },
    {
      "cell_type": "code",
      "execution_count": null,
      "metadata": {
        "colab": {
          "base_uri": "https://localhost:8080/",
          "height": 511
        },
        "id": "q0UFqZRiN6XU",
        "outputId": "6a7ec2d4-a32f-4c9f-977e-9edba31a84e7"
      },
      "outputs": [
        {
          "output_type": "display_data",
          "data": {
            "text/plain": [
              "<Figure size 640x480 with 2 Axes>"
            ],
            "image/png": "[encoded data removed]"
          },
          "metadata": {}
        }
      ],
      "source": [
        "sns.heatmap(data.isnull(),yticklabels = False, cmap='viridis');"
      ]
    },
    {
      "cell_type": "code",
      "execution_count": null,
      "metadata": {
        "id": "ZqH7bANMN6XW"
      },
      "outputs": [],
      "source": [
        "data = data.dropna(axis = 0)"
      ]
    },
    {
      "cell_type": "code",
      "execution_count": null,
      "metadata": {
        "colab": {
          "base_uri": "https://localhost:8080/"
        },
        "id": "tqyJx0mwN6XX",
        "outputId": "8d54018f-1799-48ba-c584-6046652f512b"
      },
      "outputs": [
        {
          "output_type": "stream",
          "name": "stdout",
          "text": [
            "(158, 26)\n"
          ]
        }
      ],
      "source": [
        "print(data.shape)"
      ]
    },
    {
      "cell_type": "code",
      "execution_count": null,
      "metadata": {
        "id": "BBQq37fsN6XY",
        "colab": {
          "base_uri": "https://localhost:8080/"
        },
        "outputId": "9a8cd30e-847b-4ac1-a784-0052f8702bea"
      },
      "outputs": [
        {
          "output_type": "stream",
          "name": "stderr",
          "text": [
            "<ipython-input-11-2f82a5af1b77>:2: DeprecationWarning: Converting `np.inexact` or `np.floating` to a dtype is deprecated. The current result is `float64` which is not strictly correct.\n",
            "  if data[column].dtype == np.number:\n",
            "<ipython-input-11-2f82a5af1b77>:2: DeprecationWarning: Converting `np.inexact` or `np.floating` to a dtype is deprecated. The current result is `float64` which is not strictly correct.\n",
            "  if data[column].dtype == np.number:\n",
            "<ipython-input-11-2f82a5af1b77>:2: DeprecationWarning: Converting `np.inexact` or `np.floating` to a dtype is deprecated. The current result is `float64` which is not strictly correct.\n",
            "  if data[column].dtype == np.number:\n",
            "<ipython-input-11-2f82a5af1b77>:2: DeprecationWarning: Converting `np.inexact` or `np.floating` to a dtype is deprecated. The current result is `float64` which is not strictly correct.\n",
            "  if data[column].dtype == np.number:\n",
            "<ipython-input-11-2f82a5af1b77>:2: DeprecationWarning: Converting `np.inexact` or `np.floating` to a dtype is deprecated. The current result is `float64` which is not strictly correct.\n",
            "  if data[column].dtype == np.number:\n",
            "<ipython-input-11-2f82a5af1b77>:2: DeprecationWarning: Converting `np.inexact` or `np.floating` to a dtype is deprecated. The current result is `float64` which is not strictly correct.\n",
            "  if data[column].dtype == np.number:\n",
            "<ipython-input-11-2f82a5af1b77>:2: DeprecationWarning: Converting `np.inexact` or `np.floating` to a dtype is deprecated. The current result is `float64` which is not strictly correct.\n",
            "  if data[column].dtype == np.number:\n",
            "<ipython-input-11-2f82a5af1b77>:2: DeprecationWarning: Converting `np.inexact` or `np.floating` to a dtype is deprecated. The current result is `float64` which is not strictly correct.\n",
            "  if data[column].dtype == np.number:\n",
            "<ipython-input-11-2f82a5af1b77>:2: DeprecationWarning: Converting `np.inexact` or `np.floating` to a dtype is deprecated. The current result is `float64` which is not strictly correct.\n",
            "  if data[column].dtype == np.number:\n",
            "<ipython-input-11-2f82a5af1b77>:2: DeprecationWarning: Converting `np.inexact` or `np.floating` to a dtype is deprecated. The current result is `float64` which is not strictly correct.\n",
            "  if data[column].dtype == np.number:\n",
            "<ipython-input-11-2f82a5af1b77>:2: DeprecationWarning: Converting `np.inexact` or `np.floating` to a dtype is deprecated. The current result is `float64` which is not strictly correct.\n",
            "  if data[column].dtype == np.number:\n",
            "<ipython-input-11-2f82a5af1b77>:2: DeprecationWarning: Converting `np.inexact` or `np.floating` to a dtype is deprecated. The current result is `float64` which is not strictly correct.\n",
            "  if data[column].dtype == np.number:\n",
            "<ipython-input-11-2f82a5af1b77>:2: DeprecationWarning: Converting `np.inexact` or `np.floating` to a dtype is deprecated. The current result is `float64` which is not strictly correct.\n",
            "  if data[column].dtype == np.number:\n",
            "<ipython-input-11-2f82a5af1b77>:2: DeprecationWarning: Converting `np.inexact` or `np.floating` to a dtype is deprecated. The current result is `float64` which is not strictly correct.\n",
            "  if data[column].dtype == np.number:\n",
            "<ipython-input-11-2f82a5af1b77>:2: DeprecationWarning: Converting `np.inexact` or `np.floating` to a dtype is deprecated. The current result is `float64` which is not strictly correct.\n",
            "  if data[column].dtype == np.number:\n"
          ]
        }
      ],
      "source": [
        "for column in data.columns:\n",
        "    if data[column].dtype == np.number:\n",
        "        continue\n",
        "    data[column] = LabelEncoder().fit_transform(data[column])"
      ]
    },
    {
      "cell_type": "code",
      "execution_count": null,
      "metadata": {
        "colab": {
          "base_uri": "https://localhost:8080/"
        },
        "id": "4gNsIn3sN6XY",
        "outputId": "9ffb5909-993f-493b-d3d8-31d696622fda"
      },
      "outputs": [
        {
          "output_type": "stream",
          "name": "stdout",
          "text": [
            "(158, 26)\n",
            "    id   age    bp     sg   al   su  rbc  pc  pcc  ba  ...  pcv  wc  rc  htn  \\\n",
            "3    0  48.0  70.0  1.005  4.0  0.0    1   0    1   0  ...   11  42  14    1   \n",
            "9    1  53.0  90.0  1.020  2.0  0.0    0   0    1   0  ...    8  11  12    1   \n",
            "11   2  63.0  70.0  1.010  3.0  0.0    0   0    1   0  ...   11  25  13    1   \n",
            "14   3  68.0  80.0  1.010  3.0  2.0    1   0    1   1  ...    0   8   2    1   \n",
            "20   4  61.0  80.0  1.015  2.0  0.0    0   0    0   0  ...    4  63   7    1   \n",
            "\n",
            "    dm  cad  appet  pe  ane  classification  \n",
            "3    0    0      1   1    1               0  \n",
            "9    1    0      1   0    1               0  \n",
            "11   1    0      1   1    0               0  \n",
            "14   1    1      1   1    0               0  \n",
            "20   1    1      1   1    1               0  \n",
            "\n",
            "[5 rows x 26 columns]\n"
          ]
        }
      ],
      "source": [
        "print(data.shape)\n",
        "print(data.head())"
      ]
    },
    {
      "cell_type": "code",
      "execution_count": null,
      "metadata": {
        "colab": {
          "base_uri": "https://localhost:8080/"
        },
        "id": "lQO-wKvAN6XZ",
        "outputId": "671ac3f7-b321-4ad0-bab8-56fd673a4c72"
      },
      "outputs": [
        {
          "output_type": "stream",
          "name": "stdout",
          "text": [
            "               id         age          bp          sg          al          su  \\\n",
            "count  158.000000  158.000000  158.000000  158.000000  158.000000  158.000000   \n",
            "mean    78.500000   49.563291   74.050633    1.019873    0.797468    0.253165   \n",
            "std     45.754781   15.512244   11.175381    0.005499    1.413130    0.813397   \n",
            "min      0.000000    6.000000   50.000000    1.005000    0.000000    0.000000   \n",
            "25%     39.250000   39.250000   60.000000    1.020000    0.000000    0.000000   \n",
            "50%     78.500000   50.500000   80.000000    1.020000    0.000000    0.000000   \n",
            "75%    117.750000   60.000000   80.000000    1.025000    1.000000    0.000000   \n",
            "max    157.000000   83.000000  110.000000    1.025000    4.000000    5.000000   \n",
            "\n",
            "              rbc          pc         pcc          ba  ...         pcv  \\\n",
            "count  158.000000  158.000000  158.000000  158.000000  ...  158.000000   \n",
            "mean     0.886076    0.816456    0.088608    0.075949  ...   20.569620   \n",
            "std      0.318729    0.388343    0.285080    0.265759  ...    8.141556   \n",
            "min      0.000000    0.000000    0.000000    0.000000  ...    0.000000   \n",
            "25%      1.000000    1.000000    0.000000    0.000000  ...   17.250000   \n",
            "50%      1.000000    1.000000    0.000000    0.000000  ...   22.000000   \n",
            "75%      1.000000    1.000000    0.000000    0.000000  ...   26.750000   \n",
            "max      1.000000    1.000000    1.000000    1.000000  ...   33.000000   \n",
            "\n",
            "               wc          rc         htn          dm         cad       appet  \\\n",
            "count  158.000000  158.000000  158.000000  158.000000  158.000000  158.000000   \n",
            "mean    38.265823   23.145570    0.215190    0.177215    0.069620    0.120253   \n",
            "std     19.787861    9.459148    0.412261    0.383065    0.255315    0.326292   \n",
            "min      0.000000    0.000000    0.000000    0.000000    0.000000    0.000000   \n",
            "25%     24.000000   19.000000    0.000000    0.000000    0.000000    0.000000   \n",
            "50%     42.000000   23.500000    0.000000    0.000000    0.000000    0.000000   \n",
            "75%     53.000000   30.000000    0.000000    0.000000    0.000000    0.000000   \n",
            "max     70.000000   40.000000    1.000000    1.000000    1.000000    1.000000   \n",
            "\n",
            "               pe         ane  classification  \n",
            "count  158.000000  158.000000      158.000000  \n",
            "mean     0.126582    0.101266        0.727848  \n",
            "std      0.333562    0.302640        0.446483  \n",
            "min      0.000000    0.000000        0.000000  \n",
            "25%      0.000000    0.000000        0.000000  \n",
            "50%      0.000000    0.000000        1.000000  \n",
            "75%      0.000000    0.000000        1.000000  \n",
            "max      1.000000    1.000000        1.000000  \n",
            "\n",
            "[8 rows x 26 columns]\n"
          ]
        }
      ],
      "source": [
        "print(data.describe())"
      ]
    },
    {
      "cell_type": "code",
      "execution_count": null,
      "metadata": {
        "colab": {
          "base_uri": "https://localhost:8080/",
          "height": 511
        },
        "id": "gIZmBmXFN6Xa",
        "outputId": "d9d71d65-f137-4728-c340-8f4893063bb9"
      },
      "outputs": [
        {
          "output_type": "display_data",
          "data": {
            "text/plain": [
              "<Figure size 640x480 with 2 Axes>"
            ],
            "image/png": "[encoded data removed]"
          },
          "metadata": {}
        }
      ],
      "source": [
        "sns.heatmap(data.isnull(),yticklabels = False, cmap='viridis');"
      ]
    },
    {
      "cell_type": "code",
      "execution_count": null,
      "metadata": {
        "id": "EX_EP_72N6Xa"
      },
      "outputs": [],
      "source": [
        "# splitting dataset into dependent and independent\n",
        "\n",
        "X = data.drop(['classification'],axis=1)\n",
        "Y = data['classification']"
      ]
    },
    {
      "cell_type": "code",
      "execution_count": null,
      "metadata": {
        "id": "U3T3DpraN6Xa"
      },
      "outputs": [],
      "source": [
        "#Feature Scaling\n",
        "#min-max scaler method scales the data set so that all the input features lie between 0 and 1\n",
        "x_scaler = MinMaxScaler()\n",
        "x_scaler.fit(X)\n",
        "column_names = X.columns\n",
        "X[column_names] = x_scaler.transform(X)"
      ]
    },
    {
      "cell_type": "code",
      "execution_count": null,
      "metadata": {
        "colab": {
          "base_uri": "https://localhost:8080/"
        },
        "id": "_gIU76KBN6Xb",
        "outputId": "78a61a1b-d2a0-4f52-d545-9fe346c2f600"
      },
      "outputs": [
        {
          "output_type": "stream",
          "name": "stdout",
          "text": [
            "           id       age        bp    sg    al   su  rbc   pc  pcc   ba  ...  \\\n",
            "3    0.000000  0.545455  0.333333  0.00  1.00  0.0  1.0  0.0  1.0  0.0  ...   \n",
            "9    0.006369  0.610390  0.666667  0.75  0.50  0.0  0.0  0.0  1.0  0.0  ...   \n",
            "11   0.012739  0.740260  0.333333  0.25  0.75  0.0  0.0  0.0  1.0  0.0  ...   \n",
            "14   0.019108  0.805195  0.500000  0.25  0.75  0.4  1.0  0.0  1.0  1.0  ...   \n",
            "20   0.025478  0.714286  0.500000  0.50  0.50  0.0  0.0  0.0  0.0  0.0  ...   \n",
            "..        ...       ...       ...   ...   ...  ...  ...  ...  ...  ...  ...   \n",
            "395  0.974522  0.636364  0.500000  0.75  0.00  0.0  1.0  1.0  0.0  0.0  ...   \n",
            "396  0.980892  0.467532  0.333333  1.00  0.00  0.0  1.0  1.0  0.0  0.0  ...   \n",
            "397  0.987261  0.077922  0.500000  0.75  0.00  0.0  1.0  1.0  0.0  0.0  ...   \n",
            "398  0.993631  0.142857  0.166667  1.00  0.00  0.0  1.0  1.0  0.0  0.0  ...   \n",
            "399  1.000000  0.675325  0.500000  1.00  0.00  0.0  1.0  1.0  0.0  0.0  ...   \n",
            "\n",
            "         hemo       pcv        wc     rc  htn   dm  cad  appet   pe  ane  \n",
            "3    0.551020  0.333333  0.600000  0.350  1.0  0.0  0.0    1.0  1.0  1.0  \n",
            "9    0.435374  0.242424  0.157143  0.300  1.0  1.0  0.0    1.0  0.0  1.0  \n",
            "11   0.523810  0.333333  0.357143  0.325  1.0  1.0  0.0    1.0  1.0  0.0  \n",
            "14   0.170068  0.000000  0.114286  0.050  1.0  1.0  1.0    1.0  1.0  0.0  \n",
            "20   0.312925  0.121212  0.900000  0.175  1.0  1.0  1.0    1.0  1.0  1.0  \n",
            "..        ...       ...       ...    ...  ...  ...  ...    ...  ...  ...  \n",
            "395  0.857143  0.757576  0.600000  0.575  0.0  0.0  0.0    0.0  0.0  0.0  \n",
            "396  0.911565  0.969697  0.742857  0.900  0.0  0.0  0.0    0.0  0.0  0.0  \n",
            "397  0.863946  0.818182  0.585714  0.700  0.0  0.0  0.0    0.0  0.0  0.0  \n",
            "398  0.755102  0.878788  0.671429  0.825  0.0  0.0  0.0    0.0  0.0  0.0  \n",
            "399  0.863946  0.939394  0.614286  0.875  0.0  0.0  0.0    0.0  0.0  0.0  \n",
            "\n",
            "[158 rows x 25 columns]\n"
          ]
        }
      ],
      "source": [
        "print(X)"
      ]
    },
    {
      "cell_type": "code",
      "execution_count": null,
      "metadata": {
        "id": "IkueSBMxN6Xb"
      },
      "outputs": [],
      "source": [
        "#split the data into 80% training and 20% testing and shuffle\n",
        "\n",
        "X_train, X_test, Y_train, Y_test = train_test_split(X,Y, test_size = 0.2 ,shuffle = True)"
      ]
    },
    {
      "cell_type": "code",
      "source": [
        "len(X.columns)"
      ],
      "metadata": {
        "colab": {
          "base_uri": "https://localhost:8080/"
        },
        "id": "qvPujZN3PRqH",
        "outputId": "8df0506c-2aca-4b70-b94f-1bd48db937a8"
      },
      "execution_count": null,
      "outputs": [
        {
          "output_type": "execute_result",
          "data": {
            "text/plain": [
              "25"
            ]
          },
          "metadata": {},
          "execution_count": 19
        }
      ]
    },
    {
      "cell_type": "code",
      "source": [
        "X.columns"
      ],
      "metadata": {
        "colab": {
          "base_uri": "https://localhost:8080/"
        },
        "id": "LY9MLUyAPZcs",
        "outputId": "65eeca0e-8e6c-435d-d197-a356c44fe991"
      },
      "execution_count": null,
      "outputs": [
        {
          "output_type": "execute_result",
          "data": {
            "text/plain": [
              "Index(['id', 'age', 'bp', 'sg', 'al', 'su', 'rbc', 'pc', 'pcc', 'ba', 'bgr',\n",
              "       'bu', 'sc', 'sod', 'pot', 'hemo', 'pcv', 'wc', 'rc', 'htn', 'dm', 'cad',\n",
              "       'appet', 'pe', 'ane'],\n",
              "      dtype='object')"
            ]
          },
          "metadata": {},
          "execution_count": 20
        }
      ]
    },
    {
      "cell_type": "markdown",
      "metadata": {
        "id": "aiV-vbFYN6Xc"
      },
      "source": [
        "# Aritificial Neural Network"
      ]
    },
    {
      "cell_type": "code",
      "execution_count": null,
      "metadata": {
        "id": "K62vSDgJN6Xh"
      },
      "outputs": [],
      "source": [
        "#build model\n",
        "\n",
        "model = Sequential()\n",
        "\n",
        "#first layer\n",
        "model.add(Dense(256,input_dim= len(X.columns),kernel_initializer= k.initializers.random_normal(seed= 13),activation= 'relu'))\n",
        "\n",
        "#second layer\n",
        "model.add(Dense (1, activation = 'hard_sigmoid'))"
      ]
    },
    {
      "cell_type": "code",
      "execution_count": null,
      "metadata": {
        "id": "skthAM4nN6Xi"
      },
      "outputs": [],
      "source": [
        "#compiling the model\n",
        "#opt = adam(lr=0.001, decay=1e-6)\n",
        "\n",
        "model.compile(loss = 'binary_crossentropy', optimizer = 'adam', metrics = ['accuracy'])"
      ]
    },
    {
      "cell_type": "code",
      "execution_count": null,
      "metadata": {
        "colab": {
          "base_uri": "https://localhost:8080/"
        },
        "id": "34rRz4xRN6Xj",
        "outputId": "9d586481-4a4c-407b-9fae-86ccea509a99"
      },
      "outputs": [
        {
          "output_type": "stream",
          "name": "stdout",
          "text": [
            "Epoch 1/250\n",
            "1/1 [==============================] - 1s 729ms/step - loss: 0.6269 - accuracy: 0.8016\n",
            "Epoch 2/250\n",
            "1/1 [==============================] - 0s 15ms/step - loss: 0.5999 - accuracy: 0.8254\n",
            "Epoch 3/250\n",
            "1/1 [==============================] - 0s 12ms/step - loss: 0.5738 - accuracy: 0.8333\n",
            "Epoch 4/250\n",
            "1/1 [==============================] - 0s 14ms/step - loss: 0.5486 - accuracy: 0.8571\n",
            "Epoch 5/250\n",
            "1/1 [==============================] - 0s 8ms/step - loss: 0.5241 - accuracy: 0.8730\n",
            "Epoch 6/250\n",
            "1/1 [==============================] - 0s 13ms/step - loss: 0.5004 - accuracy: 0.8968\n",
            "Epoch 7/250\n",
            "1/1 [==============================] - 0s 10ms/step - loss: 0.4774 - accuracy: 0.9048\n",
            "Epoch 8/250\n",
            "1/1 [==============================] - 0s 12ms/step - loss: 0.4549 - accuracy: 0.9206\n",
            "Epoch 9/250\n",
            "1/1 [==============================] - 0s 10ms/step - loss: 0.4330 - accuracy: 0.9365\n",
            "Epoch 10/250\n",
            "1/1 [==============================] - 0s 9ms/step - loss: 0.4114 - accuracy: 0.9365\n",
            "Epoch 11/250\n",
            "1/1 [==============================] - 0s 9ms/step - loss: 0.3900 - accuracy: 0.9365\n",
            "Epoch 12/250\n",
            "1/1 [==============================] - 0s 10ms/step - loss: 0.3689 - accuracy: 0.9444\n",
            "Epoch 13/250\n",
            "1/1 [==============================] - 0s 10ms/step - loss: 0.3480 - accuracy: 0.9444\n",
            "Epoch 14/250\n",
            "1/1 [==============================] - 0s 10ms/step - loss: 0.3274 - accuracy: 0.9444\n",
            "Epoch 15/250\n",
            "1/1 [==============================] - 0s 10ms/step - loss: 0.3071 - accuracy: 0.9444\n",
            "Epoch 16/250\n",
            "1/1 [==============================] - 0s 10ms/step - loss: 0.2870 - accuracy: 0.9524\n",
            "Epoch 17/250\n",
            "1/1 [==============================] - 0s 9ms/step - loss: 0.2671 - accuracy: 0.9524\n",
            "Epoch 18/250\n",
            "1/1 [==============================] - 0s 9ms/step - loss: 0.2473 - accuracy: 0.9524\n",
            "Epoch 19/250\n",
            "1/1 [==============================] - 0s 10ms/step - loss: 0.2276 - accuracy: 0.9524\n",
            "Epoch 20/250\n",
            "1/1 [==============================] - 0s 10ms/step - loss: 0.2079 - accuracy: 0.9524\n",
            "Epoch 21/250\n",
            "1/1 [==============================] - 0s 10ms/step - loss: 0.1884 - accuracy: 0.9524\n",
            "Epoch 22/250\n",
            "1/1 [==============================] - 0s 10ms/step - loss: 0.1689 - accuracy: 0.9524\n",
            "Epoch 23/250\n",
            "1/1 [==============================] - 0s 9ms/step - loss: 0.1496 - accuracy: 0.9603\n",
            "Epoch 24/250\n",
            "1/1 [==============================] - 0s 10ms/step - loss: 0.1313 - accuracy: 0.9603\n",
            "Epoch 25/250\n",
            "1/1 [==============================] - 0s 10ms/step - loss: 0.1153 - accuracy: 0.9683\n",
            "Epoch 26/250\n",
            "1/1 [==============================] - 0s 10ms/step - loss: 0.1028 - accuracy: 0.9683\n",
            "Epoch 27/250\n",
            "1/1 [==============================] - 0s 10ms/step - loss: 0.0933 - accuracy: 0.9683\n",
            "Epoch 28/250\n",
            "1/1 [==============================] - 0s 10ms/step - loss: 0.0855 - accuracy: 0.9683\n",
            "Epoch 29/250\n",
            "1/1 [==============================] - 0s 10ms/step - loss: 0.0791 - accuracy: 0.9683\n",
            "Epoch 30/250\n",
            "1/1 [==============================] - 0s 9ms/step - loss: 0.0729 - accuracy: 0.9683\n",
            "Epoch 31/250\n",
            "1/1 [==============================] - 0s 10ms/step - loss: 0.0672 - accuracy: 0.9762\n",
            "Epoch 32/250\n",
            "1/1 [==============================] - 0s 9ms/step - loss: 0.0616 - accuracy: 0.9841\n",
            "Epoch 33/250\n",
            "1/1 [==============================] - 0s 13ms/step - loss: 0.0563 - accuracy: 0.9841\n",
            "Epoch 34/250\n",
            "1/1 [==============================] - 0s 10ms/step - loss: 0.0516 - accuracy: 0.9841\n",
            "Epoch 35/250\n",
            "1/1 [==============================] - 0s 11ms/step - loss: 0.0477 - accuracy: 0.9841\n",
            "Epoch 36/250\n",
            "1/1 [==============================] - 0s 10ms/step - loss: 0.0443 - accuracy: 0.9841\n",
            "Epoch 37/250\n",
            "1/1 [==============================] - 0s 11ms/step - loss: 0.0414 - accuracy: 0.9841\n",
            "Epoch 38/250\n",
            "1/1 [==============================] - 0s 10ms/step - loss: 0.0391 - accuracy: 0.9841\n",
            "Epoch 39/250\n",
            "1/1 [==============================] - 0s 10ms/step - loss: 0.0373 - accuracy: 0.9841\n",
            "Epoch 40/250\n",
            "1/1 [==============================] - 0s 11ms/step - loss: 0.0358 - accuracy: 0.9841\n",
            "Epoch 41/250\n",
            "1/1 [==============================] - 0s 9ms/step - loss: 0.0341 - accuracy: 0.9841\n",
            "Epoch 42/250\n",
            "1/1 [==============================] - 0s 9ms/step - loss: 0.0322 - accuracy: 0.9841\n",
            "Epoch 43/250\n",
            "1/1 [==============================] - 0s 10ms/step - loss: 0.0302 - accuracy: 0.9841\n",
            "Epoch 44/250\n",
            "1/1 [==============================] - 0s 10ms/step - loss: 0.0284 - accuracy: 0.9841\n",
            "Epoch 45/250\n",
            "1/1 [==============================] - 0s 10ms/step - loss: 0.0269 - accuracy: 0.9841\n",
            "Epoch 46/250\n",
            "1/1 [==============================] - 0s 10ms/step - loss: 0.0256 - accuracy: 0.9841\n",
            "Epoch 47/250\n",
            "1/1 [==============================] - 0s 10ms/step - loss: 0.0244 - accuracy: 0.9841\n",
            "Epoch 48/250\n",
            "1/1 [==============================] - 0s 10ms/step - loss: 0.0233 - accuracy: 0.9841\n",
            "Epoch 49/250\n",
            "1/1 [==============================] - 0s 10ms/step - loss: 0.0223 - accuracy: 0.9841\n",
            "Epoch 50/250\n",
            "1/1 [==============================] - 0s 10ms/step - loss: 0.0214 - accuracy: 0.9841\n",
            "Epoch 51/250\n",
            "1/1 [==============================] - 0s 10ms/step - loss: 0.0205 - accuracy: 0.9841\n",
            "Epoch 52/250\n",
            "1/1 [==============================] - 0s 10ms/step - loss: 0.0198 - accuracy: 0.9841\n",
            "Epoch 53/250\n",
            "1/1 [==============================] - 0s 10ms/step - loss: 0.0193 - accuracy: 0.9921\n",
            "Epoch 54/250\n",
            "1/1 [==============================] - 0s 10ms/step - loss: 0.0187 - accuracy: 0.9921\n",
            "Epoch 55/250\n",
            "1/1 [==============================] - 0s 10ms/step - loss: 0.0181 - accuracy: 0.9921\n",
            "Epoch 56/250\n",
            "1/1 [==============================] - 0s 10ms/step - loss: 0.0175 - accuracy: 0.9921\n",
            "Epoch 57/250\n",
            "1/1 [==============================] - 0s 13ms/step - loss: 0.0170 - accuracy: 0.9921\n",
            "Epoch 58/250\n",
            "1/1 [==============================] - 0s 10ms/step - loss: 0.0164 - accuracy: 0.9921\n",
            "Epoch 59/250\n",
            "1/1 [==============================] - 0s 10ms/step - loss: 0.0159 - accuracy: 0.9921\n",
            "Epoch 60/250\n",
            "1/1 [==============================] - 0s 10ms/step - loss: 0.0154 - accuracy: 0.9921\n",
            "Epoch 61/250\n",
            "1/1 [==============================] - 0s 10ms/step - loss: 0.0150 - accuracy: 1.0000\n",
            "Epoch 62/250\n",
            "1/1 [==============================] - 0s 10ms/step - loss: 0.0145 - accuracy: 1.0000\n",
            "Epoch 63/250\n",
            "1/1 [==============================] - 0s 10ms/step - loss: 0.0141 - accuracy: 1.0000\n",
            "Epoch 64/250\n",
            "1/1 [==============================] - 0s 9ms/step - loss: 0.0137 - accuracy: 1.0000\n",
            "Epoch 65/250\n",
            "1/1 [==============================] - 0s 10ms/step - loss: 0.0132 - accuracy: 1.0000\n",
            "Epoch 66/250\n",
            "1/1 [==============================] - 0s 10ms/step - loss: 0.0128 - accuracy: 1.0000\n",
            "Epoch 67/250\n",
            "1/1 [==============================] - 0s 10ms/step - loss: 0.0125 - accuracy: 1.0000\n",
            "Epoch 68/250\n",
            "1/1 [==============================] - 0s 9ms/step - loss: 0.0121 - accuracy: 1.0000\n",
            "Epoch 69/250\n",
            "1/1 [==============================] - 0s 9ms/step - loss: 0.0118 - accuracy: 1.0000\n",
            "Epoch 70/250\n",
            "1/1 [==============================] - 0s 10ms/step - loss: 0.0114 - accuracy: 1.0000\n",
            "Epoch 71/250\n",
            "1/1 [==============================] - 0s 11ms/step - loss: 0.0111 - accuracy: 1.0000\n",
            "Epoch 72/250\n",
            "1/1 [==============================] - 0s 9ms/step - loss: 0.0108 - accuracy: 1.0000\n",
            "Epoch 73/250\n",
            "1/1 [==============================] - 0s 9ms/step - loss: 0.0105 - accuracy: 1.0000\n",
            "Epoch 74/250\n",
            "1/1 [==============================] - 0s 10ms/step - loss: 0.0102 - accuracy: 1.0000\n",
            "Epoch 75/250\n",
            "1/1 [==============================] - 0s 10ms/step - loss: 0.0100 - accuracy: 1.0000\n",
            "Epoch 76/250\n",
            "1/1 [==============================] - 0s 10ms/step - loss: 0.0098 - accuracy: 1.0000\n",
            "Epoch 77/250\n",
            "1/1 [==============================] - 0s 10ms/step - loss: 0.0096 - accuracy: 1.0000\n",
            "Epoch 78/250\n",
            "1/1 [==============================] - 0s 10ms/step - loss: 0.0094 - accuracy: 1.0000\n",
            "Epoch 79/250\n",
            "1/1 [==============================] - 0s 10ms/step - loss: 0.0092 - accuracy: 1.0000\n",
            "Epoch 80/250\n",
            "1/1 [==============================] - 0s 10ms/step - loss: 0.0091 - accuracy: 1.0000\n",
            "Epoch 81/250\n",
            "1/1 [==============================] - 0s 11ms/step - loss: 0.0089 - accuracy: 1.0000\n",
            "Epoch 82/250\n",
            "1/1 [==============================] - 0s 10ms/step - loss: 0.0087 - accuracy: 1.0000\n",
            "Epoch 83/250\n",
            "1/1 [==============================] - 0s 10ms/step - loss: 0.0085 - accuracy: 1.0000\n",
            "Epoch 84/250\n",
            "1/1 [==============================] - 0s 10ms/step - loss: 0.0084 - accuracy: 1.0000\n",
            "Epoch 85/250\n",
            "1/1 [==============================] - 0s 10ms/step - loss: 0.0083 - accuracy: 1.0000\n",
            "Epoch 86/250\n",
            "1/1 [==============================] - 0s 10ms/step - loss: 0.0081 - accuracy: 1.0000\n",
            "Epoch 87/250\n",
            "1/1 [==============================] - 0s 10ms/step - loss: 0.0080 - accuracy: 1.0000\n",
            "Epoch 88/250\n",
            "1/1 [==============================] - 0s 10ms/step - loss: 0.0079 - accuracy: 1.0000\n",
            "Epoch 89/250\n",
            "1/1 [==============================] - 0s 14ms/step - loss: 0.0078 - accuracy: 1.0000\n",
            "Epoch 90/250\n",
            "1/1 [==============================] - 0s 15ms/step - loss: 0.0077 - accuracy: 1.0000\n",
            "Epoch 91/250\n",
            "1/1 [==============================] - 0s 10ms/step - loss: 0.0076 - accuracy: 1.0000\n",
            "Epoch 92/250\n",
            "1/1 [==============================] - 0s 10ms/step - loss: 0.0074 - accuracy: 1.0000\n",
            "Epoch 93/250\n",
            "1/1 [==============================] - 0s 10ms/step - loss: 0.0073 - accuracy: 1.0000\n",
            "Epoch 94/250\n",
            "1/1 [==============================] - 0s 11ms/step - loss: 0.0072 - accuracy: 1.0000\n",
            "Epoch 95/250\n",
            "1/1 [==============================] - 0s 10ms/step - loss: 0.0071 - accuracy: 1.0000\n",
            "Epoch 96/250\n",
            "1/1 [==============================] - 0s 10ms/step - loss: 0.0070 - accuracy: 1.0000\n",
            "Epoch 97/250\n",
            "1/1 [==============================] - 0s 10ms/step - loss: 0.0069 - accuracy: 1.0000\n",
            "Epoch 98/250\n",
            "1/1 [==============================] - 0s 9ms/step - loss: 0.0068 - accuracy: 1.0000\n",
            "Epoch 99/250\n",
            "1/1 [==============================] - 0s 10ms/step - loss: 0.0067 - accuracy: 1.0000\n",
            "Epoch 100/250\n",
            "1/1 [==============================] - 0s 11ms/step - loss: 0.0067 - accuracy: 1.0000\n",
            "Epoch 101/250\n",
            "1/1 [==============================] - 0s 10ms/step - loss: 0.0066 - accuracy: 1.0000\n",
            "Epoch 102/250\n",
            "1/1 [==============================] - 0s 14ms/step - loss: 0.0065 - accuracy: 1.0000\n",
            "Epoch 103/250\n",
            "1/1 [==============================] - 0s 10ms/step - loss: 0.0064 - accuracy: 1.0000\n",
            "Epoch 104/250\n",
            "1/1 [==============================] - 0s 10ms/step - loss: 0.0064 - accuracy: 1.0000\n",
            "Epoch 105/250\n",
            "1/1 [==============================] - 0s 12ms/step - loss: 0.0063 - accuracy: 1.0000\n",
            "Epoch 106/250\n",
            "1/1 [==============================] - 0s 9ms/step - loss: 0.0062 - accuracy: 1.0000\n",
            "Epoch 107/250\n",
            "1/1 [==============================] - 0s 13ms/step - loss: 0.0062 - accuracy: 1.0000\n",
            "Epoch 108/250\n",
            "1/1 [==============================] - 0s 13ms/step - loss: 0.0061 - accuracy: 1.0000\n",
            "Epoch 109/250\n",
            "1/1 [==============================] - 0s 11ms/step - loss: 0.0060 - accuracy: 1.0000\n",
            "Epoch 110/250\n",
            "1/1 [==============================] - 0s 9ms/step - loss: 0.0059 - accuracy: 1.0000\n",
            "Epoch 111/250\n",
            "1/1 [==============================] - 0s 12ms/step - loss: 0.0059 - accuracy: 1.0000\n",
            "Epoch 112/250\n",
            "1/1 [==============================] - 0s 10ms/step - loss: 0.0058 - accuracy: 1.0000\n",
            "Epoch 113/250\n",
            "1/1 [==============================] - 0s 9ms/step - loss: 0.0057 - accuracy: 1.0000\n",
            "Epoch 114/250\n",
            "1/1 [==============================] - 0s 9ms/step - loss: 0.0057 - accuracy: 1.0000\n",
            "Epoch 115/250\n",
            "1/1 [==============================] - 0s 11ms/step - loss: 0.0056 - accuracy: 1.0000\n",
            "Epoch 116/250\n",
            "1/1 [==============================] - 0s 10ms/step - loss: 0.0055 - accuracy: 1.0000\n",
            "Epoch 117/250\n",
            "1/1 [==============================] - 0s 12ms/step - loss: 0.0055 - accuracy: 1.0000\n",
            "Epoch 118/250\n",
            "1/1 [==============================] - 0s 12ms/step - loss: 0.0054 - accuracy: 1.0000\n",
            "Epoch 119/250\n",
            "1/1 [==============================] - 0s 10ms/step - loss: 0.0053 - accuracy: 1.0000\n",
            "Epoch 120/250\n",
            "1/1 [==============================] - 0s 10ms/step - loss: 0.0052 - accuracy: 1.0000\n",
            "Epoch 121/250\n",
            "1/1 [==============================] - 0s 10ms/step - loss: 0.0052 - accuracy: 1.0000\n",
            "Epoch 122/250\n",
            "1/1 [==============================] - 0s 10ms/step - loss: 0.0051 - accuracy: 1.0000\n",
            "Epoch 123/250\n",
            "1/1 [==============================] - 0s 10ms/step - loss: 0.0050 - accuracy: 1.0000\n",
            "Epoch 124/250\n",
            "1/1 [==============================] - 0s 10ms/step - loss: 0.0050 - accuracy: 1.0000\n",
            "Epoch 125/250\n",
            "1/1 [==============================] - 0s 10ms/step - loss: 0.0049 - accuracy: 1.0000\n",
            "Epoch 126/250\n",
            "1/1 [==============================] - 0s 9ms/step - loss: 0.0048 - accuracy: 1.0000\n",
            "Epoch 127/250\n",
            "1/1 [==============================] - 0s 10ms/step - loss: 0.0048 - accuracy: 1.0000\n",
            "Epoch 128/250\n",
            "1/1 [==============================] - 0s 10ms/step - loss: 0.0047 - accuracy: 1.0000\n",
            "Epoch 129/250\n",
            "1/1 [==============================] - 0s 10ms/step - loss: 0.0046 - accuracy: 1.0000\n",
            "Epoch 130/250\n",
            "1/1 [==============================] - 0s 10ms/step - loss: 0.0046 - accuracy: 1.0000\n",
            "Epoch 131/250\n",
            "1/1 [==============================] - 0s 10ms/step - loss: 0.0045 - accuracy: 1.0000\n",
            "Epoch 132/250\n",
            "1/1 [==============================] - 0s 10ms/step - loss: 0.0044 - accuracy: 1.0000\n",
            "Epoch 133/250\n",
            "1/1 [==============================] - 0s 9ms/step - loss: 0.0044 - accuracy: 1.0000\n",
            "Epoch 134/250\n",
            "1/1 [==============================] - 0s 12ms/step - loss: 0.0043 - accuracy: 1.0000\n",
            "Epoch 135/250\n",
            "1/1 [==============================] - 0s 11ms/step - loss: 0.0042 - accuracy: 1.0000\n",
            "Epoch 136/250\n",
            "1/1 [==============================] - 0s 10ms/step - loss: 0.0042 - accuracy: 1.0000\n",
            "Epoch 137/250\n",
            "1/1 [==============================] - 0s 9ms/step - loss: 0.0041 - accuracy: 1.0000\n",
            "Epoch 138/250\n",
            "1/1 [==============================] - 0s 10ms/step - loss: 0.0040 - accuracy: 1.0000\n",
            "Epoch 139/250\n",
            "1/1 [==============================] - 0s 9ms/step - loss: 0.0039 - accuracy: 1.0000\n",
            "Epoch 140/250\n",
            "1/1 [==============================] - 0s 10ms/step - loss: 0.0039 - accuracy: 1.0000\n",
            "Epoch 141/250\n",
            "1/1 [==============================] - 0s 10ms/step - loss: 0.0038 - accuracy: 1.0000\n",
            "Epoch 142/250\n",
            "1/1 [==============================] - 0s 10ms/step - loss: 0.0037 - accuracy: 1.0000\n",
            "Epoch 143/250\n",
            "1/1 [==============================] - 0s 10ms/step - loss: 0.0037 - accuracy: 1.0000\n",
            "Epoch 144/250\n",
            "1/1 [==============================] - 0s 9ms/step - loss: 0.0036 - accuracy: 1.0000\n",
            "Epoch 145/250\n",
            "1/1 [==============================] - 0s 10ms/step - loss: 0.0035 - accuracy: 1.0000\n",
            "Epoch 146/250\n",
            "1/1 [==============================] - 0s 9ms/step - loss: 0.0035 - accuracy: 1.0000\n",
            "Epoch 147/250\n",
            "1/1 [==============================] - 0s 10ms/step - loss: 0.0034 - accuracy: 1.0000\n",
            "Epoch 148/250\n",
            "1/1 [==============================] - 0s 10ms/step - loss: 0.0033 - accuracy: 1.0000\n",
            "Epoch 149/250\n",
            "1/1 [==============================] - 0s 10ms/step - loss: 0.0033 - accuracy: 1.0000\n",
            "Epoch 150/250\n",
            "1/1 [==============================] - 0s 10ms/step - loss: 0.0032 - accuracy: 1.0000\n",
            "Epoch 151/250\n",
            "1/1 [==============================] - 0s 10ms/step - loss: 0.0031 - accuracy: 1.0000\n",
            "Epoch 152/250\n",
            "1/1 [==============================] - 0s 14ms/step - loss: 0.0031 - accuracy: 1.0000\n",
            "Epoch 153/250\n",
            "1/1 [==============================] - 0s 10ms/step - loss: 0.0030 - accuracy: 1.0000\n",
            "Epoch 154/250\n",
            "1/1 [==============================] - 0s 10ms/step - loss: 0.0029 - accuracy: 1.0000\n",
            "Epoch 155/250\n",
            "1/1 [==============================] - 0s 10ms/step - loss: 0.0029 - accuracy: 1.0000\n",
            "Epoch 156/250\n",
            "1/1 [==============================] - 0s 10ms/step - loss: 0.0028 - accuracy: 1.0000\n",
            "Epoch 157/250\n",
            "1/1 [==============================] - 0s 15ms/step - loss: 0.0027 - accuracy: 1.0000\n",
            "Epoch 158/250\n",
            "1/1 [==============================] - 0s 11ms/step - loss: 0.0027 - accuracy: 1.0000\n",
            "Epoch 159/250\n",
            "1/1 [==============================] - 0s 10ms/step - loss: 0.0026 - accuracy: 1.0000\n",
            "Epoch 160/250\n",
            "1/1 [==============================] - 0s 10ms/step - loss: 0.0025 - accuracy: 1.0000\n",
            "Epoch 161/250\n",
            "1/1 [==============================] - 0s 10ms/step - loss: 0.0025 - accuracy: 1.0000\n",
            "Epoch 162/250\n",
            "1/1 [==============================] - 0s 9ms/step - loss: 0.0024 - accuracy: 1.0000\n",
            "Epoch 163/250\n",
            "1/1 [==============================] - 0s 10ms/step - loss: 0.0024 - accuracy: 1.0000\n",
            "Epoch 164/250\n",
            "1/1 [==============================] - 0s 10ms/step - loss: 0.0023 - accuracy: 1.0000\n",
            "Epoch 165/250\n",
            "1/1 [==============================] - 0s 10ms/step - loss: 0.0022 - accuracy: 1.0000\n",
            "Epoch 166/250\n",
            "1/1 [==============================] - 0s 13ms/step - loss: 0.0022 - accuracy: 1.0000\n",
            "Epoch 167/250\n",
            "1/1 [==============================] - 0s 10ms/step - loss: 0.0021 - accuracy: 1.0000\n",
            "Epoch 168/250\n",
            "1/1 [==============================] - 0s 9ms/step - loss: 0.0020 - accuracy: 1.0000\n",
            "Epoch 169/250\n",
            "1/1 [==============================] - 0s 10ms/step - loss: 0.0020 - accuracy: 1.0000\n",
            "Epoch 170/250\n",
            "1/1 [==============================] - 0s 10ms/step - loss: 0.0019 - accuracy: 1.0000\n",
            "Epoch 171/250\n",
            "1/1 [==============================] - 0s 10ms/step - loss: 0.0018 - accuracy: 1.0000\n",
            "Epoch 172/250\n",
            "1/1 [==============================] - 0s 10ms/step - loss: 0.0018 - accuracy: 1.0000\n",
            "Epoch 173/250\n",
            "1/1 [==============================] - 0s 9ms/step - loss: 0.0017 - accuracy: 1.0000\n",
            "Epoch 174/250\n",
            "1/1 [==============================] - 0s 9ms/step - loss: 0.0017 - accuracy: 1.0000\n",
            "Epoch 175/250\n",
            "1/1 [==============================] - 0s 10ms/step - loss: 0.0016 - accuracy: 1.0000\n",
            "Epoch 176/250\n",
            "1/1 [==============================] - 0s 9ms/step - loss: 0.0015 - accuracy: 1.0000\n",
            "Epoch 177/250\n",
            "1/1 [==============================] - 0s 9ms/step - loss: 0.0015 - accuracy: 1.0000\n",
            "Epoch 178/250\n",
            "1/1 [==============================] - 0s 9ms/step - loss: 0.0014 - accuracy: 1.0000\n",
            "Epoch 179/250\n",
            "1/1 [==============================] - 0s 10ms/step - loss: 0.0014 - accuracy: 1.0000\n",
            "Epoch 180/250\n",
            "1/1 [==============================] - 0s 13ms/step - loss: 0.0014 - accuracy: 1.0000\n",
            "Epoch 181/250\n",
            "1/1 [==============================] - 0s 9ms/step - loss: 0.0013 - accuracy: 1.0000\n",
            "Epoch 182/250\n",
            "1/1 [==============================] - 0s 10ms/step - loss: 0.0013 - accuracy: 1.0000\n",
            "Epoch 183/250\n",
            "1/1 [==============================] - 0s 9ms/step - loss: 0.0013 - accuracy: 1.0000\n",
            "Epoch 184/250\n",
            "1/1 [==============================] - 0s 9ms/step - loss: 0.0013 - accuracy: 1.0000\n",
            "Epoch 185/250\n",
            "1/1 [==============================] - 0s 13ms/step - loss: 0.0012 - accuracy: 1.0000\n",
            "Epoch 186/250\n",
            "1/1 [==============================] - 0s 12ms/step - loss: 0.0012 - accuracy: 1.0000\n",
            "Epoch 187/250\n",
            "1/1 [==============================] - 0s 9ms/step - loss: 0.0012 - accuracy: 1.0000\n",
            "Epoch 188/250\n",
            "1/1 [==============================] - 0s 9ms/step - loss: 0.0012 - accuracy: 1.0000\n",
            "Epoch 189/250\n",
            "1/1 [==============================] - 0s 11ms/step - loss: 0.0012 - accuracy: 1.0000\n",
            "Epoch 190/250\n",
            "1/1 [==============================] - 0s 9ms/step - loss: 0.0011 - accuracy: 1.0000\n",
            "Epoch 191/250\n",
            "1/1 [==============================] - 0s 10ms/step - loss: 0.0011 - accuracy: 1.0000\n",
            "Epoch 192/250\n",
            "1/1 [==============================] - 0s 10ms/step - loss: 0.0011 - accuracy: 1.0000\n",
            "Epoch 193/250\n",
            "1/1 [==============================] - 0s 9ms/step - loss: 0.0011 - accuracy: 1.0000\n",
            "Epoch 194/250\n",
            "1/1 [==============================] - 0s 9ms/step - loss: 0.0011 - accuracy: 1.0000\n",
            "Epoch 195/250\n",
            "1/1 [==============================] - 0s 10ms/step - loss: 0.0010 - accuracy: 1.0000\n",
            "Epoch 196/250\n",
            "1/1 [==============================] - 0s 10ms/step - loss: 0.0010 - accuracy: 1.0000\n",
            "Epoch 197/250\n",
            "1/1 [==============================] - 0s 10ms/step - loss: 9.9889e-04 - accuracy: 1.0000\n",
            "Epoch 198/250\n",
            "1/1 [==============================] - 0s 9ms/step - loss: 9.7996e-04 - accuracy: 1.0000\n",
            "Epoch 199/250\n",
            "1/1 [==============================] - 0s 9ms/step - loss: 9.6274e-04 - accuracy: 1.0000\n",
            "Epoch 200/250\n",
            "1/1 [==============================] - 0s 9ms/step - loss: 9.4629e-04 - accuracy: 1.0000\n",
            "Epoch 201/250\n",
            "1/1 [==============================] - 0s 9ms/step - loss: 9.2927e-04 - accuracy: 1.0000\n",
            "Epoch 202/250\n",
            "1/1 [==============================] - 0s 10ms/step - loss: 9.0905e-04 - accuracy: 1.0000\n",
            "Epoch 203/250\n",
            "1/1 [==============================] - 0s 10ms/step - loss: 8.9684e-04 - accuracy: 1.0000\n",
            "Epoch 204/250\n",
            "1/1 [==============================] - 0s 10ms/step - loss: 8.7893e-04 - accuracy: 1.0000\n",
            "Epoch 205/250\n",
            "1/1 [==============================] - 0s 9ms/step - loss: 8.5685e-04 - accuracy: 1.0000\n",
            "Epoch 206/250\n",
            "1/1 [==============================] - 0s 10ms/step - loss: 8.4126e-04 - accuracy: 1.0000\n",
            "Epoch 207/250\n",
            "1/1 [==============================] - 0s 10ms/step - loss: 8.2231e-04 - accuracy: 1.0000\n",
            "Epoch 208/250\n",
            "1/1 [==============================] - 0s 10ms/step - loss: 8.0815e-04 - accuracy: 1.0000\n",
            "Epoch 209/250\n",
            "1/1 [==============================] - 0s 11ms/step - loss: 7.8915e-04 - accuracy: 1.0000\n",
            "Epoch 210/250\n",
            "1/1 [==============================] - 0s 10ms/step - loss: 7.7353e-04 - accuracy: 1.0000\n",
            "Epoch 211/250\n",
            "1/1 [==============================] - 0s 10ms/step - loss: 7.5892e-04 - accuracy: 1.0000\n",
            "Epoch 212/250\n",
            "1/1 [==============================] - 0s 10ms/step - loss: 7.4084e-04 - accuracy: 1.0000\n",
            "Epoch 213/250\n",
            "1/1 [==============================] - 0s 10ms/step - loss: 7.1967e-04 - accuracy: 1.0000\n",
            "Epoch 214/250\n",
            "1/1 [==============================] - 0s 10ms/step - loss: 7.0968e-04 - accuracy: 1.0000\n",
            "Epoch 215/250\n",
            "1/1 [==============================] - 0s 9ms/step - loss: 6.9418e-04 - accuracy: 1.0000\n",
            "Epoch 216/250\n",
            "1/1 [==============================] - 0s 10ms/step - loss: 6.6996e-04 - accuracy: 1.0000\n",
            "Epoch 217/250\n",
            "1/1 [==============================] - 0s 9ms/step - loss: 6.5795e-04 - accuracy: 1.0000\n",
            "Epoch 218/250\n",
            "1/1 [==============================] - 0s 9ms/step - loss: 6.4221e-04 - accuracy: 1.0000\n",
            "Epoch 219/250\n",
            "1/1 [==============================] - 0s 9ms/step - loss: 6.2313e-04 - accuracy: 1.0000\n",
            "Epoch 220/250\n",
            "1/1 [==============================] - 0s 10ms/step - loss: 6.0113e-04 - accuracy: 1.0000\n",
            "Epoch 221/250\n",
            "1/1 [==============================] - 0s 9ms/step - loss: 5.9281e-04 - accuracy: 1.0000\n",
            "Epoch 222/250\n",
            "1/1 [==============================] - 0s 10ms/step - loss: 5.7859e-04 - accuracy: 1.0000\n",
            "Epoch 223/250\n",
            "1/1 [==============================] - 0s 10ms/step - loss: 5.5438e-04 - accuracy: 1.0000\n",
            "Epoch 224/250\n",
            "1/1 [==============================] - 0s 11ms/step - loss: 5.3798e-04 - accuracy: 1.0000\n",
            "Epoch 225/250\n",
            "1/1 [==============================] - 0s 10ms/step - loss: 5.2635e-04 - accuracy: 1.0000\n",
            "Epoch 226/250\n",
            "1/1 [==============================] - 0s 11ms/step - loss: 5.1102e-04 - accuracy: 1.0000\n",
            "Epoch 227/250\n",
            "1/1 [==============================] - 0s 9ms/step - loss: 4.9231e-04 - accuracy: 1.0000\n",
            "Epoch 228/250\n",
            "1/1 [==============================] - 0s 9ms/step - loss: 4.7061e-04 - accuracy: 1.0000\n",
            "Epoch 229/250\n",
            "1/1 [==============================] - 0s 10ms/step - loss: 4.4999e-04 - accuracy: 1.0000\n",
            "Epoch 230/250\n",
            "1/1 [==============================] - 0s 10ms/step - loss: 4.3513e-04 - accuracy: 1.0000\n",
            "Epoch 231/250\n",
            "1/1 [==============================] - 0s 10ms/step - loss: 4.1607e-04 - accuracy: 1.0000\n",
            "Epoch 232/250\n",
            "1/1 [==============================] - 0s 9ms/step - loss: 4.0023e-04 - accuracy: 1.0000\n",
            "Epoch 233/250\n",
            "1/1 [==============================] - 0s 9ms/step - loss: 3.8111e-04 - accuracy: 1.0000\n",
            "Epoch 234/250\n",
            "1/1 [==============================] - 0s 10ms/step - loss: 3.7095e-04 - accuracy: 1.0000\n",
            "Epoch 235/250\n",
            "1/1 [==============================] - 0s 10ms/step - loss: 3.5228e-04 - accuracy: 1.0000\n",
            "Epoch 236/250\n",
            "1/1 [==============================] - 0s 11ms/step - loss: 3.3308e-04 - accuracy: 1.0000\n",
            "Epoch 237/250\n",
            "1/1 [==============================] - 0s 9ms/step - loss: 3.1906e-04 - accuracy: 1.0000\n",
            "Epoch 238/250\n",
            "1/1 [==============================] - 0s 9ms/step - loss: 3.0154e-04 - accuracy: 1.0000\n",
            "Epoch 239/250\n",
            "1/1 [==============================] - 0s 9ms/step - loss: 2.8088e-04 - accuracy: 1.0000\n",
            "Epoch 240/250\n",
            "1/1 [==============================] - 0s 12ms/step - loss: 2.7090e-04 - accuracy: 1.0000\n",
            "Epoch 241/250\n",
            "1/1 [==============================] - 0s 11ms/step - loss: 2.5420e-04 - accuracy: 1.0000\n",
            "Epoch 242/250\n",
            "1/1 [==============================] - 0s 11ms/step - loss: 2.2937e-04 - accuracy: 1.0000\n",
            "Epoch 243/250\n",
            "1/1 [==============================] - 0s 12ms/step - loss: 2.1453e-04 - accuracy: 1.0000\n",
            "Epoch 244/250\n",
            "1/1 [==============================] - 0s 9ms/step - loss: 1.9633e-04 - accuracy: 1.0000\n",
            "Epoch 245/250\n",
            "1/1 [==============================] - 0s 9ms/step - loss: 1.8298e-04 - accuracy: 1.0000\n",
            "Epoch 246/250\n",
            "1/1 [==============================] - 0s 9ms/step - loss: 1.6233e-04 - accuracy: 1.0000\n",
            "Epoch 247/250\n",
            "1/1 [==============================] - 0s 9ms/step - loss: 1.5106e-04 - accuracy: 1.0000\n",
            "Epoch 248/250\n",
            "1/1 [==============================] - 0s 9ms/step - loss: 1.3799e-04 - accuracy: 1.0000\n",
            "Epoch 249/250\n",
            "1/1 [==============================] - 0s 8ms/step - loss: 1.2134e-04 - accuracy: 1.0000\n",
            "Epoch 250/250\n",
            "1/1 [==============================] - 0s 9ms/step - loss: 1.0148e-04 - accuracy: 1.0000\n"
          ]
        }
      ],
      "source": [
        "#train the model\n",
        "\n",
        "history = model.fit(X_train, Y_train, epochs = 250, batch_size = X_train.shape[0])"
      ]
    },
    {
      "cell_type": "code",
      "execution_count": null,
      "metadata": {
        "scrolled": true,
        "id": "gcdeS7kWN6Xk"
      },
      "outputs": [],
      "source": [
        "#save the model\n",
        "\n",
        "model.save('ckd.model');"
      ]
    },
    {
      "cell_type": "code",
      "execution_count": null,
      "metadata": {
        "colab": {
          "base_uri": "https://localhost:8080/",
          "height": 472
        },
        "id": "tXhvh61_N6Xl",
        "outputId": "4b2f1b50-d350-458e-a971-b6547cc79b92"
      },
      "outputs": [
        {
          "output_type": "display_data",
          "data": {
            "text/plain": [
              "<Figure size 640x480 with 1 Axes>"
            ],
            "image/png": "[encoded data removed]"
          },
          "metadata": {}
        }
      ],
      "source": [
        "#visualie model loss and accuracy\n",
        "\n",
        "plt.plot(history.history['accuracy'],label='Accuracy')\n",
        "plt.plot(history.history['loss'],label='Loss')\n",
        "plt.title('Model Loss and Accuracy')\n",
        "plt.ylabel('Accuracy and Loss')\n",
        "plt.xlabel('Epochs')\n",
        "plt.legend();"
      ]
    },
    {
      "cell_type": "code",
      "execution_count": null,
      "metadata": {
        "colab": {
          "base_uri": "https://localhost:8080/"
        },
        "id": "VM9dLG7LN6Xm",
        "outputId": "394a4ebc-07c6-4138-9e92-6bfbc8148537"
      },
      "outputs": [
        {
          "output_type": "stream",
          "name": "stdout",
          "text": [
            "shape of training data:  (126, 25)\n",
            "shape of test data:  (32, 25)\n"
          ]
        }
      ],
      "source": [
        "print(\"shape of training data: \",X_train.shape)\n",
        "print(\"shape of test data: \",X_test.shape)"
      ]
    },
    {
      "cell_type": "code",
      "execution_count": null,
      "metadata": {
        "colab": {
          "base_uri": "https://localhost:8080/"
        },
        "id": "tTU4VApLN6Xn",
        "outputId": "8924138e-e6c5-4da0-b31b-51fcf5da1f3a"
      },
      "outputs": [
        {
          "output_type": "stream",
          "name": "stdout",
          "text": [
            "1/1 [==============================] - 0s 87ms/step\n",
            "Original:  1,1,1,1,0,1,1,0,1,1,1,1,1,0,1,1,0,1,1,1,1,1,1,1,0,1,1,1,1,0,1,1\n",
            "Predicted: 1,1,1,1,0,1,1,0,1,1,1,1,1,0,1,1,0,1,1,1,1,1,1,1,0,1,1,1,1,0,1,1\n"
          ]
        }
      ],
      "source": [
        "#show actual and predicted value\n",
        "pred = model.predict(X_test)\n",
        "pred = [1 if y>=0.5 else 0 for y in pred]\n",
        "\n",
        "print('Original:  {0}'.format(\",\".join(str(x) for x in Y_test)))\n",
        "print('Predicted: {0}'.format(\",\".join(str(x) for x in pred)))"
      ]
    },
    {
      "cell_type": "markdown",
      "metadata": {
        "id": "k4LzCp41N6Xn"
      },
      "source": [
        "# Logistic Regression"
      ]
    },
    {
      "cell_type": "code",
      "execution_count": null,
      "metadata": {
        "id": "WoB-_j_zN6Xn"
      },
      "outputs": [],
      "source": [
        "X = data.iloc[:,:-1]\n",
        "y = data['classification']\n",
        "\n",
        "logreg = LogisticRegression(max_iter = 10000)"
      ]
    },
    {
      "cell_type": "code",
      "execution_count": null,
      "metadata": {
        "id": "o6yxYvtgN6Xo"
      },
      "outputs": [],
      "source": [
        "X_train, X_test, y_train, y_test = train_test_split(X,y, stratify = y, shuffle = True)"
      ]
    },
    {
      "cell_type": "code",
      "execution_count": null,
      "metadata": {
        "colab": {
          "base_uri": "https://localhost:8080/",
          "height": 75
        },
        "id": "g5K2l9ffN6Xo",
        "outputId": "13b61e7f-19a0-4b0e-864d-a594b0fe00f3"
      },
      "outputs": [
        {
          "output_type": "execute_result",
          "data": {
            "text/plain": [
              "LogisticRegression(max_iter=10000)"
            ],
            "text/html": [
              "<style>#sk-container-id-1 {color: black;background-color: white;}#sk-container-id-1 pre{padding: 0;}#sk-container-id-1 div.sk-toggleable {background-color: white;}#sk-container-id-1 label.sk-toggleable__label {cursor: pointer;display: block;width: 100%;margin-bottom: 0;padding: 0.3em;box-sizing: border-box;text-align: center;}#sk-container-id-1 label.sk-toggleable__label-arrow:before {content: \"▸\";float: left;margin-right: 0.25em;color: #696969;}#sk-container-id-1 label.sk-toggleable__label-arrow:hover:before {color: black;}#sk-container-id-1 div.sk-estimator:hover label.sk-toggleable__label-arrow:before {color: black;}#sk-container-id-1 div.sk-toggleable__content {max-height: 0;max-width: 0;overflow: hidden;text-align: left;background-color: #f0f8ff;}#sk-container-id-1 div.sk-toggleable__content pre {margin: 0.2em;color: black;border-radius: 0.25em;background-color: #f0f8ff;}#sk-container-id-1 input.sk-toggleable__control:checked~div.sk-toggleable__content {max-height: 200px;max-width: 100%;overflow: auto;}#sk-container-id-1 input.sk-toggleable__control:checked~label.sk-toggleable__label-arrow:before {content: \"▾\";}#sk-container-id-1 div.sk-estimator input.sk-toggleable__control:checked~label.sk-toggleable__label {background-color: #d4ebff;}#sk-container-id-1 div.sk-label input.sk-toggleable__control:checked~label.sk-toggleable__label {background-color: #d4ebff;}#sk-container-id-1 input.sk-hidden--visually {border: 0;clip: rect(1px 1px 1px 1px);clip: rect(1px, 1px, 1px, 1px);height: 1px;margin: -1px;overflow: hidden;padding: 0;position: absolute;width: 1px;}#sk-container-id-1 div.sk-estimator {font-family: monospace;background-color: #f0f8ff;border: 1px dotted black;border-radius: 0.25em;box-sizing: border-box;margin-bottom: 0.5em;}#sk-container-id-1 div.sk-estimator:hover {background-color: #d4ebff;}#sk-container-id-1 div.sk-parallel-item::after {content: \"\";width: 100%;border-bottom: 1px solid gray;flex-grow: 1;}#sk-container-id-1 div.sk-label:hover label.sk-toggleable__label {background-color: #d4ebff;}#sk-container-id-1 div.sk-serial::before {content: \"\";position: absolute;border-left: 1px solid gray;box-sizing: border-box;top: 0;bottom: 0;left: 50%;z-index: 0;}#sk-container-id-1 div.sk-serial {display: flex;flex-direction: column;align-items: center;background-color: white;padding-right: 0.2em;padding-left: 0.2em;position: relative;}#sk-container-id-1 div.sk-item {position: relative;z-index: 1;}#sk-container-id-1 div.sk-parallel {display: flex;align-items: stretch;justify-content: center;background-color: white;position: relative;}#sk-container-id-1 div.sk-item::before, #sk-container-id-1 div.sk-parallel-item::before {content: \"\";position: absolute;border-left: 1px solid gray;box-sizing: border-box;top: 0;bottom: 0;left: 50%;z-index: -1;}#sk-container-id-1 div.sk-parallel-item {display: flex;flex-direction: column;z-index: 1;position: relative;background-color: white;}#sk-container-id-1 div.sk-parallel-item:first-child::after {align-self: flex-end;width: 50%;}#sk-container-id-1 div.sk-parallel-item:last-child::after {align-self: flex-start;width: 50%;}#sk-container-id-1 div.sk-parallel-item:only-child::after {width: 0;}#sk-container-id-1 div.sk-dashed-wrapped {border: 1px dashed gray;margin: 0 0.4em 0.5em 0.4em;box-sizing: border-box;padding-bottom: 0.4em;background-color: white;}#sk-container-id-1 div.sk-label label {font-family: monospace;font-weight: bold;display: inline-block;line-height: 1.2em;}#sk-container-id-1 div.sk-label-container {text-align: center;}#sk-container-id-1 div.sk-container {/* jupyter's `normalize.less` sets `[hidden] { display: none; }` but bootstrap.min.css set `[hidden] { display: none !important; }` so we also need the `!important` here to be able to override the default hidden behavior on the sphinx rendered scikit-learn.org. See: https://github.com/scikit-learn/scikit-learn/issues/21755 */display: inline-block !important;position: relative;}#sk-container-id-1 div.sk-text-repr-fallback {display: none;}</style><div id=\"sk-container-id-1\" class=\"sk-top-container\"><div class=\"sk-text-repr-fallback\"><pre>LogisticRegression(max_iter=10000)</pre><b>In a Jupyter environment, please rerun this cell to show the HTML representation or trust the notebook. <br />On GitHub, the HTML representation is unable to render, please try loading this page with nbviewer.org.</b></div><div class=\"sk-container\" hidden><div class=\"sk-item\"><div class=\"sk-estimator sk-toggleable\"><input class=\"sk-toggleable__control sk-hidden--visually\" id=\"sk-estimator-id-1\" type=\"checkbox\" checked><label for=\"sk-estimator-id-1\" class=\"sk-toggleable__label sk-toggleable__label-arrow\">LogisticRegression</label><div class=\"sk-toggleable__content\"><pre>LogisticRegression(max_iter=10000)</pre></div></div></div></div></div>"
            ]
          },
          "metadata": {},
          "execution_count": 32
        }
      ],
      "source": [
        "logreg.fit(X_train,y_train)"
      ]
    },
    {
      "cell_type": "code",
      "execution_count": null,
      "metadata": {
        "colab": {
          "base_uri": "https://localhost:8080/"
        },
        "id": "9sGsJrvON6Xo",
        "outputId": "b3460931-c7e4-4ae7-c4ff-a80d19376144"
      },
      "outputs": [
        {
          "output_type": "stream",
          "name": "stdout",
          "text": [
            "Train Accuracy:  1.0\n",
            "Test Accuracy:  1.0\n"
          ]
        }
      ],
      "source": [
        "test_pred = logreg.predict(X_test)\n",
        "train_pred = logreg.predict(X_train)\n",
        "\n",
        "print('Train Accuracy: ', accuracy_score(y_train, train_pred))\n",
        "print('Test Accuracy: ', accuracy_score(y_test, test_pred))"
      ]
    },
    {
      "cell_type": "code",
      "source": [
        "confusion_matrix(y_test, test_pred)"
      ],
      "metadata": {
        "colab": {
          "base_uri": "https://localhost:8080/"
        },
        "id": "hx6STxQiQn-8",
        "outputId": "a81c4b1a-7b65-4470-f406-7e62c52ce91d"
      },
      "execution_count": null,
      "outputs": [
        {
          "output_type": "execute_result",
          "data": {
            "text/plain": [
              "array([[11,  0],\n",
              "       [ 0, 29]])"
            ]
          },
          "metadata": {},
          "execution_count": 34
        }
      ]
    },
    {
      "cell_type": "code",
      "execution_count": null,
      "metadata": {
        "colab": {
          "base_uri": "https://localhost:8080/"
        },
        "id": "IjuYZ2d-N6Xp",
        "outputId": "43bad606-004e-4f79-b3ee-faa8e402bb9b"
      },
      "outputs": [
        {
          "output_type": "stream",
          "name": "stdout",
          "text": [
            "True Neg: 11\n",
            "False Pos: 0\n",
            "False Neg: 0\n",
            "True Pos: 29\n"
          ]
        }
      ],
      "source": [
        "tn, fp, fn, tp = confusion_matrix(y_test, test_pred).ravel()\n",
        "\n",
        "print(f'True Neg: {tn}')\n",
        "print(f'False Pos: {fp}')\n",
        "print(f'False Neg: {fn}')\n",
        "print(f'True Pos: {tp}')"
      ]
    },
    {
      "cell_type": "code",
      "execution_count": null,
      "metadata": {
        "colab": {
          "base_uri": "https://localhost:8080/"
        },
        "id": "fu3eA7bNN6Xp",
        "outputId": "ed8d7347-f18a-49be-96de-3f9ba3ad3bb3"
      },
      "outputs": [
        {
          "output_type": "stream",
          "name": "stdout",
          "text": [
            "              precision    recall  f1-score   support\n",
            "\n",
            "           0       1.00      1.00      1.00        11\n",
            "           1       1.00      1.00      1.00        29\n",
            "\n",
            "    accuracy                           1.00        40\n",
            "   macro avg       1.00      1.00      1.00        40\n",
            "weighted avg       1.00      1.00      1.00        40\n",
            "\n"
          ]
        }
      ],
      "source": [
        "print(classification_report(y_test,test_pred))"
      ]
    }
  ],
  "metadata": {
    "kernelspec": {
      "display_name": "Python 3",
      "language": "python",
      "name": "python3"
    },
    "language_info": {
      "codemirror_mode": {
        "name": "ipython",
        "version": 3
      },
      "file_extension": ".py",
      "mimetype": "text/x-python",
      "name": "python",
      "nbconvert_exporter": "python",
      "pygments_lexer": "ipython3",
      "version": "3.7.6"
    },
    "colab": {
      "provenance": []
    }
  },
  "nbformat": 4,
  "nbformat_minor": 0
}